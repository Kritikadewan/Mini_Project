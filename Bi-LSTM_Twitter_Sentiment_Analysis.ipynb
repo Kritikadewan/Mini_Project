{
  "nbformat": 4,
  "nbformat_minor": 0,
  "metadata": {
    "colab": {
      "name": "Untitled1.ipynb",
      "provenance": [],
      "collapsed_sections": [],
      "mount_file_id": "1hjZ7lsDiSxr2a0LW0bTbyOgVNIvGGIzB",
      "authorship_tag": "ABX9TyORkk59PyKEqa2cC5gxBJus",
      "include_colab_link": true
    },
    "kernelspec": {
      "name": "python3",
      "display_name": "Python 3"
    }
  },
  "cells": [
    {
      "cell_type": "markdown",
      "metadata": {
        "id": "view-in-github",
        "colab_type": "text"
      },
      "source": [
        "<a href=\"https://colab.research.google.com/github/Kritikadewan/Mini_Project/blob/main/Bi-LSTM_Twitter_Sentiment_Analysis.ipynb\" target=\"_parent\"><img src=\"https://colab.research.google.com/assets/colab-badge.svg\" alt=\"Open In Colab\"/></a>"
      ]
    },
    {
      "cell_type": "code",
      "metadata": {
        "id": "IrnrN3Bb3ypT"
      },
      "source": [
        "# Import required packages\n",
        "\n",
        "import pandas as pd\n",
        "import numpy as np\n",
        "import matplotlib.pyplot as plt\n",
        "import nltk\n",
        "import keras\n",
        "from keras.preprocessing.text import Tokenizer\n",
        "from keras.layers import Dense, Dropout, Embedding, LSTM, Bidirectional,InputLayer\n",
        "from sklearn.model_selection import train_test_split"
      ],
      "execution_count": 3,
      "outputs": []
    },
    {
      "cell_type": "code",
      "metadata": {
        "id": "-3Bp0HKY343k",
        "colab": {
          "base_uri": "https://localhost:8080/"
        },
        "outputId": "b7a1a298-7817-4f8f-a03b-3fc1eca21887"
      },
      "source": [
        "nltk.download('all')\n"
      ],
      "execution_count": 5,
      "outputs": [
        {
          "output_type": "stream",
          "text": [
            "[nltk_data] Downloading collection 'all'\n",
            "[nltk_data]    | \n",
            "[nltk_data]    | Downloading package abc to /root/nltk_data...\n",
            "[nltk_data]    |   Unzipping corpora/abc.zip.\n",
            "[nltk_data]    | Downloading package alpino to /root/nltk_data...\n",
            "[nltk_data]    |   Unzipping corpora/alpino.zip.\n",
            "[nltk_data]    | Downloading package biocreative_ppi to\n",
            "[nltk_data]    |     /root/nltk_data...\n",
            "[nltk_data]    |   Unzipping corpora/biocreative_ppi.zip.\n",
            "[nltk_data]    | Downloading package brown to /root/nltk_data...\n",
            "[nltk_data]    |   Unzipping corpora/brown.zip.\n",
            "[nltk_data]    | Downloading package brown_tei to /root/nltk_data...\n",
            "[nltk_data]    |   Unzipping corpora/brown_tei.zip.\n",
            "[nltk_data]    | Downloading package cess_cat to /root/nltk_data...\n",
            "[nltk_data]    |   Unzipping corpora/cess_cat.zip.\n",
            "[nltk_data]    | Downloading package cess_esp to /root/nltk_data...\n",
            "[nltk_data]    |   Unzipping corpora/cess_esp.zip.\n",
            "[nltk_data]    | Downloading package chat80 to /root/nltk_data...\n",
            "[nltk_data]    |   Unzipping corpora/chat80.zip.\n",
            "[nltk_data]    | Downloading package city_database to\n",
            "[nltk_data]    |     /root/nltk_data...\n",
            "[nltk_data]    |   Unzipping corpora/city_database.zip.\n",
            "[nltk_data]    | Downloading package cmudict to /root/nltk_data...\n",
            "[nltk_data]    |   Unzipping corpora/cmudict.zip.\n",
            "[nltk_data]    | Downloading package comparative_sentences to\n",
            "[nltk_data]    |     /root/nltk_data...\n",
            "[nltk_data]    |   Unzipping corpora/comparative_sentences.zip.\n",
            "[nltk_data]    | Downloading package comtrans to /root/nltk_data...\n",
            "[nltk_data]    | Downloading package conll2000 to /root/nltk_data...\n",
            "[nltk_data]    |   Unzipping corpora/conll2000.zip.\n",
            "[nltk_data]    | Downloading package conll2002 to /root/nltk_data...\n",
            "[nltk_data]    |   Unzipping corpora/conll2002.zip.\n",
            "[nltk_data]    | Downloading package conll2007 to /root/nltk_data...\n",
            "[nltk_data]    | Downloading package crubadan to /root/nltk_data...\n",
            "[nltk_data]    |   Unzipping corpora/crubadan.zip.\n",
            "[nltk_data]    | Downloading package dependency_treebank to\n",
            "[nltk_data]    |     /root/nltk_data...\n",
            "[nltk_data]    |   Unzipping corpora/dependency_treebank.zip.\n",
            "[nltk_data]    | Downloading package dolch to /root/nltk_data...\n",
            "[nltk_data]    |   Unzipping corpora/dolch.zip.\n",
            "[nltk_data]    | Downloading package europarl_raw to\n",
            "[nltk_data]    |     /root/nltk_data...\n",
            "[nltk_data]    |   Unzipping corpora/europarl_raw.zip.\n",
            "[nltk_data]    | Downloading package floresta to /root/nltk_data...\n",
            "[nltk_data]    |   Unzipping corpora/floresta.zip.\n",
            "[nltk_data]    | Downloading package framenet_v15 to\n",
            "[nltk_data]    |     /root/nltk_data...\n",
            "[nltk_data]    |   Unzipping corpora/framenet_v15.zip.\n",
            "[nltk_data]    | Downloading package framenet_v17 to\n",
            "[nltk_data]    |     /root/nltk_data...\n",
            "[nltk_data]    |   Unzipping corpora/framenet_v17.zip.\n",
            "[nltk_data]    | Downloading package gazetteers to /root/nltk_data...\n",
            "[nltk_data]    |   Unzipping corpora/gazetteers.zip.\n",
            "[nltk_data]    | Downloading package genesis to /root/nltk_data...\n",
            "[nltk_data]    |   Unzipping corpora/genesis.zip.\n",
            "[nltk_data]    | Downloading package gutenberg to /root/nltk_data...\n",
            "[nltk_data]    |   Unzipping corpora/gutenberg.zip.\n",
            "[nltk_data]    | Downloading package ieer to /root/nltk_data...\n",
            "[nltk_data]    |   Unzipping corpora/ieer.zip.\n",
            "[nltk_data]    | Downloading package inaugural to /root/nltk_data...\n",
            "[nltk_data]    |   Unzipping corpora/inaugural.zip.\n",
            "[nltk_data]    | Downloading package indian to /root/nltk_data...\n",
            "[nltk_data]    |   Unzipping corpora/indian.zip.\n",
            "[nltk_data]    | Downloading package jeita to /root/nltk_data...\n",
            "[nltk_data]    | Downloading package kimmo to /root/nltk_data...\n",
            "[nltk_data]    |   Unzipping corpora/kimmo.zip.\n",
            "[nltk_data]    | Downloading package knbc to /root/nltk_data...\n",
            "[nltk_data]    | Downloading package lin_thesaurus to\n",
            "[nltk_data]    |     /root/nltk_data...\n",
            "[nltk_data]    |   Unzipping corpora/lin_thesaurus.zip.\n",
            "[nltk_data]    | Downloading package mac_morpho to /root/nltk_data...\n",
            "[nltk_data]    |   Unzipping corpora/mac_morpho.zip.\n",
            "[nltk_data]    | Downloading package machado to /root/nltk_data...\n",
            "[nltk_data]    | Downloading package masc_tagged to /root/nltk_data...\n",
            "[nltk_data]    | Downloading package moses_sample to\n",
            "[nltk_data]    |     /root/nltk_data...\n",
            "[nltk_data]    |   Unzipping models/moses_sample.zip.\n",
            "[nltk_data]    | Downloading package movie_reviews to\n",
            "[nltk_data]    |     /root/nltk_data...\n",
            "[nltk_data]    |   Unzipping corpora/movie_reviews.zip.\n",
            "[nltk_data]    | Downloading package names to /root/nltk_data...\n",
            "[nltk_data]    |   Unzipping corpora/names.zip.\n",
            "[nltk_data]    | Downloading package nombank.1.0 to /root/nltk_data...\n",
            "[nltk_data]    | Downloading package nps_chat to /root/nltk_data...\n",
            "[nltk_data]    |   Unzipping corpora/nps_chat.zip.\n",
            "[nltk_data]    | Downloading package omw to /root/nltk_data...\n",
            "[nltk_data]    |   Unzipping corpora/omw.zip.\n",
            "[nltk_data]    | Downloading package opinion_lexicon to\n",
            "[nltk_data]    |     /root/nltk_data...\n",
            "[nltk_data]    |   Unzipping corpora/opinion_lexicon.zip.\n",
            "[nltk_data]    | Downloading package paradigms to /root/nltk_data...\n",
            "[nltk_data]    |   Unzipping corpora/paradigms.zip.\n",
            "[nltk_data]    | Downloading package pil to /root/nltk_data...\n",
            "[nltk_data]    |   Unzipping corpora/pil.zip.\n",
            "[nltk_data]    | Downloading package pl196x to /root/nltk_data...\n",
            "[nltk_data]    |   Unzipping corpora/pl196x.zip.\n",
            "[nltk_data]    | Downloading package ppattach to /root/nltk_data...\n",
            "[nltk_data]    |   Unzipping corpora/ppattach.zip.\n",
            "[nltk_data]    | Downloading package problem_reports to\n",
            "[nltk_data]    |     /root/nltk_data...\n",
            "[nltk_data]    |   Unzipping corpora/problem_reports.zip.\n",
            "[nltk_data]    | Downloading package propbank to /root/nltk_data...\n",
            "[nltk_data]    | Downloading package ptb to /root/nltk_data...\n",
            "[nltk_data]    |   Unzipping corpora/ptb.zip.\n",
            "[nltk_data]    | Downloading package product_reviews_1 to\n",
            "[nltk_data]    |     /root/nltk_data...\n",
            "[nltk_data]    |   Unzipping corpora/product_reviews_1.zip.\n",
            "[nltk_data]    | Downloading package product_reviews_2 to\n",
            "[nltk_data]    |     /root/nltk_data...\n",
            "[nltk_data]    |   Unzipping corpora/product_reviews_2.zip.\n",
            "[nltk_data]    | Downloading package pros_cons to /root/nltk_data...\n",
            "[nltk_data]    |   Unzipping corpora/pros_cons.zip.\n",
            "[nltk_data]    | Downloading package qc to /root/nltk_data...\n",
            "[nltk_data]    |   Unzipping corpora/qc.zip.\n",
            "[nltk_data]    | Downloading package reuters to /root/nltk_data...\n",
            "[nltk_data]    | Downloading package rte to /root/nltk_data...\n",
            "[nltk_data]    |   Unzipping corpora/rte.zip.\n",
            "[nltk_data]    | Downloading package semcor to /root/nltk_data...\n",
            "[nltk_data]    | Downloading package senseval to /root/nltk_data...\n",
            "[nltk_data]    |   Unzipping corpora/senseval.zip.\n",
            "[nltk_data]    | Downloading package sentiwordnet to\n",
            "[nltk_data]    |     /root/nltk_data...\n",
            "[nltk_data]    |   Unzipping corpora/sentiwordnet.zip.\n",
            "[nltk_data]    | Downloading package sentence_polarity to\n",
            "[nltk_data]    |     /root/nltk_data...\n",
            "[nltk_data]    |   Unzipping corpora/sentence_polarity.zip.\n",
            "[nltk_data]    | Downloading package shakespeare to /root/nltk_data...\n",
            "[nltk_data]    |   Unzipping corpora/shakespeare.zip.\n",
            "[nltk_data]    | Downloading package sinica_treebank to\n",
            "[nltk_data]    |     /root/nltk_data...\n",
            "[nltk_data]    |   Unzipping corpora/sinica_treebank.zip.\n",
            "[nltk_data]    | Downloading package smultron to /root/nltk_data...\n",
            "[nltk_data]    |   Unzipping corpora/smultron.zip.\n",
            "[nltk_data]    | Downloading package state_union to /root/nltk_data...\n",
            "[nltk_data]    |   Unzipping corpora/state_union.zip.\n",
            "[nltk_data]    | Downloading package stopwords to /root/nltk_data...\n",
            "[nltk_data]    |   Unzipping corpora/stopwords.zip.\n",
            "[nltk_data]    | Downloading package subjectivity to\n",
            "[nltk_data]    |     /root/nltk_data...\n",
            "[nltk_data]    |   Unzipping corpora/subjectivity.zip.\n",
            "[nltk_data]    | Downloading package swadesh to /root/nltk_data...\n",
            "[nltk_data]    |   Unzipping corpora/swadesh.zip.\n",
            "[nltk_data]    | Downloading package switchboard to /root/nltk_data...\n",
            "[nltk_data]    |   Unzipping corpora/switchboard.zip.\n",
            "[nltk_data]    | Downloading package timit to /root/nltk_data...\n",
            "[nltk_data]    |   Unzipping corpora/timit.zip.\n",
            "[nltk_data]    | Downloading package toolbox to /root/nltk_data...\n",
            "[nltk_data]    |   Unzipping corpora/toolbox.zip.\n",
            "[nltk_data]    | Downloading package treebank to /root/nltk_data...\n",
            "[nltk_data]    |   Unzipping corpora/treebank.zip.\n",
            "[nltk_data]    | Downloading package twitter_samples to\n",
            "[nltk_data]    |     /root/nltk_data...\n",
            "[nltk_data]    |   Unzipping corpora/twitter_samples.zip.\n",
            "[nltk_data]    | Downloading package udhr to /root/nltk_data...\n",
            "[nltk_data]    |   Unzipping corpora/udhr.zip.\n",
            "[nltk_data]    | Downloading package udhr2 to /root/nltk_data...\n",
            "[nltk_data]    |   Unzipping corpora/udhr2.zip.\n",
            "[nltk_data]    | Downloading package unicode_samples to\n",
            "[nltk_data]    |     /root/nltk_data...\n",
            "[nltk_data]    |   Unzipping corpora/unicode_samples.zip.\n",
            "[nltk_data]    | Downloading package universal_treebanks_v20 to\n",
            "[nltk_data]    |     /root/nltk_data...\n",
            "[nltk_data]    | Downloading package verbnet to /root/nltk_data...\n",
            "[nltk_data]    |   Unzipping corpora/verbnet.zip.\n",
            "[nltk_data]    | Downloading package verbnet3 to /root/nltk_data...\n",
            "[nltk_data]    |   Unzipping corpora/verbnet3.zip.\n",
            "[nltk_data]    | Downloading package webtext to /root/nltk_data...\n",
            "[nltk_data]    |   Unzipping corpora/webtext.zip.\n",
            "[nltk_data]    | Downloading package wordnet to /root/nltk_data...\n",
            "[nltk_data]    |   Unzipping corpora/wordnet.zip.\n",
            "[nltk_data]    | Downloading package wordnet_ic to /root/nltk_data...\n",
            "[nltk_data]    |   Unzipping corpora/wordnet_ic.zip.\n",
            "[nltk_data]    | Downloading package words to /root/nltk_data...\n",
            "[nltk_data]    |   Unzipping corpora/words.zip.\n",
            "[nltk_data]    | Downloading package ycoe to /root/nltk_data...\n",
            "[nltk_data]    |   Unzipping corpora/ycoe.zip.\n",
            "[nltk_data]    | Downloading package rslp to /root/nltk_data...\n",
            "[nltk_data]    |   Unzipping stemmers/rslp.zip.\n",
            "[nltk_data]    | Downloading package maxent_treebank_pos_tagger to\n",
            "[nltk_data]    |     /root/nltk_data...\n",
            "[nltk_data]    |   Unzipping taggers/maxent_treebank_pos_tagger.zip.\n",
            "[nltk_data]    | Downloading package universal_tagset to\n",
            "[nltk_data]    |     /root/nltk_data...\n",
            "[nltk_data]    |   Unzipping taggers/universal_tagset.zip.\n",
            "[nltk_data]    | Downloading package maxent_ne_chunker to\n",
            "[nltk_data]    |     /root/nltk_data...\n",
            "[nltk_data]    |   Unzipping chunkers/maxent_ne_chunker.zip.\n",
            "[nltk_data]    | Downloading package punkt to /root/nltk_data...\n",
            "[nltk_data]    |   Unzipping tokenizers/punkt.zip.\n",
            "[nltk_data]    | Downloading package book_grammars to\n",
            "[nltk_data]    |     /root/nltk_data...\n",
            "[nltk_data]    |   Unzipping grammars/book_grammars.zip.\n",
            "[nltk_data]    | Downloading package sample_grammars to\n",
            "[nltk_data]    |     /root/nltk_data...\n",
            "[nltk_data]    |   Unzipping grammars/sample_grammars.zip.\n",
            "[nltk_data]    | Downloading package spanish_grammars to\n",
            "[nltk_data]    |     /root/nltk_data...\n",
            "[nltk_data]    |   Unzipping grammars/spanish_grammars.zip.\n",
            "[nltk_data]    | Downloading package basque_grammars to\n",
            "[nltk_data]    |     /root/nltk_data...\n",
            "[nltk_data]    |   Unzipping grammars/basque_grammars.zip.\n",
            "[nltk_data]    | Downloading package large_grammars to\n",
            "[nltk_data]    |     /root/nltk_data...\n",
            "[nltk_data]    |   Unzipping grammars/large_grammars.zip.\n",
            "[nltk_data]    | Downloading package tagsets to /root/nltk_data...\n",
            "[nltk_data]    |   Unzipping help/tagsets.zip.\n",
            "[nltk_data]    | Downloading package snowball_data to\n",
            "[nltk_data]    |     /root/nltk_data...\n",
            "[nltk_data]    | Downloading package bllip_wsj_no_aux to\n",
            "[nltk_data]    |     /root/nltk_data...\n",
            "[nltk_data]    |   Unzipping models/bllip_wsj_no_aux.zip.\n",
            "[nltk_data]    | Downloading package word2vec_sample to\n",
            "[nltk_data]    |     /root/nltk_data...\n",
            "[nltk_data]    |   Unzipping models/word2vec_sample.zip.\n",
            "[nltk_data]    | Downloading package panlex_swadesh to\n",
            "[nltk_data]    |     /root/nltk_data...\n",
            "[nltk_data]    | Downloading package mte_teip5 to /root/nltk_data...\n",
            "[nltk_data]    |   Unzipping corpora/mte_teip5.zip.\n",
            "[nltk_data]    | Downloading package averaged_perceptron_tagger to\n",
            "[nltk_data]    |     /root/nltk_data...\n",
            "[nltk_data]    |   Unzipping taggers/averaged_perceptron_tagger.zip.\n",
            "[nltk_data]    | Downloading package averaged_perceptron_tagger_ru to\n",
            "[nltk_data]    |     /root/nltk_data...\n",
            "[nltk_data]    |   Unzipping\n",
            "[nltk_data]    |       taggers/averaged_perceptron_tagger_ru.zip.\n",
            "[nltk_data]    | Downloading package perluniprops to\n",
            "[nltk_data]    |     /root/nltk_data...\n",
            "[nltk_data]    |   Unzipping misc/perluniprops.zip.\n",
            "[nltk_data]    | Downloading package nonbreaking_prefixes to\n",
            "[nltk_data]    |     /root/nltk_data...\n",
            "[nltk_data]    |   Unzipping corpora/nonbreaking_prefixes.zip.\n",
            "[nltk_data]    | Downloading package vader_lexicon to\n",
            "[nltk_data]    |     /root/nltk_data...\n",
            "[nltk_data]    | Downloading package porter_test to /root/nltk_data...\n",
            "[nltk_data]    |   Unzipping stemmers/porter_test.zip.\n",
            "[nltk_data]    | Downloading package wmt15_eval to /root/nltk_data...\n",
            "[nltk_data]    |   Unzipping models/wmt15_eval.zip.\n",
            "[nltk_data]    | Downloading package mwa_ppdb to /root/nltk_data...\n",
            "[nltk_data]    |   Unzipping misc/mwa_ppdb.zip.\n",
            "[nltk_data]    | \n",
            "[nltk_data]  Done downloading collection all\n"
          ],
          "name": "stdout"
        },
        {
          "output_type": "execute_result",
          "data": {
            "text/plain": [
              "True"
            ]
          },
          "metadata": {
            "tags": []
          },
          "execution_count": 5
        }
      ]
    },
    {
      "cell_type": "code",
      "metadata": {
        "colab": {
          "base_uri": "https://localhost:8080/",
          "height": 35
        },
        "id": "x3yawdd2l6BG",
        "outputId": "01582a33-edfe-4980-c356-abbe7f56b71e"
      },
      "source": [
        "import os\n",
        "os.getcwd()"
      ],
      "execution_count": 6,
      "outputs": [
        {
          "output_type": "execute_result",
          "data": {
            "application/vnd.google.colaboratory.intrinsic+json": {
              "type": "string"
            },
            "text/plain": [
              "'/content'"
            ]
          },
          "metadata": {
            "tags": []
          },
          "execution_count": 6
        }
      ]
    },
    {
      "cell_type": "code",
      "metadata": {
        "id": "UHDNYmdF4eVC"
      },
      "source": [
        "data_path  = \"/content/drive/MyDrive/Colab Notebooks/training.1600000.processed.noemoticon.csv\"\n",
        "\n",
        "twitter_data = pd.read_csv(data_path,names=['target','id','date','flag','user','text'], dtype=object, encoding = \"ISO-8859-1\")"
      ],
      "execution_count": 9,
      "outputs": []
    },
    {
      "cell_type": "code",
      "metadata": {
        "id": "6J2OJcQ8FFTc"
      },
      "source": [
        "twitter_data['target'] = twitter_data['target'].astype('float64') \n"
      ],
      "execution_count": 47,
      "outputs": []
    },
    {
      "cell_type": "code",
      "metadata": {
        "id": "4OpR6lGe5KHl"
      },
      "source": [
        "X=np.array(twitter_data['text'])\n",
        "Y=np.array(twitter_data['target'])\n",
        "\n",
        "# Set Y=1 for Positive Tweets\n",
        "Y[Y==4]=1"
      ],
      "execution_count": 48,
      "outputs": []
    },
    {
      "cell_type": "code",
      "metadata": {
        "id": "HLbZtx-r5PTP",
        "colab": {
          "base_uri": "https://localhost:8080/"
        },
        "outputId": "eab33cc8-9f08-4d3e-ec37-d0598696b966"
      },
      "source": [
        "index = 1250  # index in range [0,1599999]\n",
        "\n",
        "print(X[index])"
      ],
      "execution_count": 49,
      "outputs": [
        {
          "output_type": "stream",
          "text": [
            "@Weebeedee run was great thanks. Is very windy today so bike ride not an option this morning \n"
          ],
          "name": "stdout"
        }
      ]
    },
    {
      "cell_type": "code",
      "metadata": {
        "id": "S0R8bH8I5Wzf"
      },
      "source": [
        "\n",
        "def tokenize(X):\n",
        "  \n",
        "  #Tokenize the data using nltk\n",
        "  \n",
        "  \n",
        "  treebank = nltk.tokenize.TreebankWordTokenizer()\n",
        "  X_tokenized=[treebank.tokenize(sentence) for sentence in X]  \n",
        "  return X_tokenized\n",
        "  \n",
        "\n",
        "\n",
        "def remove_stopwords(X):\n",
        "  \n",
        "  #Remove Stopwords using nltk\n",
        "  \n",
        "\n",
        "  stopwords=nltk.corpus.stopwords.words('english') + ['@']\n",
        "  X_without_stopwords = []\n",
        "\n",
        "  for sentence in X:\n",
        "\n",
        "    temp = [word for word in sentence if not word in stopwords]\n",
        "    X_without_stopwords.append(temp) \n",
        "\n",
        "  return X_without_stopwords\n",
        "\n",
        "\n",
        "def stem(X,type='porter'):\n",
        "  \n",
        "  #Perform Stemming using nltk\n",
        "  #type = 'Porter','Snowball','Lancaster'\n",
        "  \n",
        "  \n",
        "  if type == 'porter':\n",
        "    stemmer= nltk.stem.PorterStemmer()\n",
        "  elif type == 'snowball':\n",
        "    stemmer = nltk.stem.SnowballStemmer()\n",
        "  elif type == 'lancaster':\n",
        "    stemmer = nltk.stem.LancasterStemmer()    \n",
        "\n",
        "  \n",
        "  X_stemmed = []\n",
        "\n",
        "  for sentence in X:\n",
        "\n",
        "    temp = [stemmer.stem(word) for word in sentence]\n",
        "    X_stemmed.append(temp)\n",
        "\n",
        "  return X_stemmed \n",
        "\n",
        "\n",
        "\n",
        "def get_wordnet_pos(treebank_tag):\n",
        "        \n",
        "        #return WORDNET POS compliance to WORDENT lemmatization (a,n,r,v) \n",
        "        \n",
        "        if treebank_tag.startswith('J'):\n",
        "            return 'a'\n",
        "        elif treebank_tag.startswith('V'):\n",
        "            return 'v'\n",
        "        elif treebank_tag.startswith('N'):\n",
        "            return 'n'\n",
        "        elif treebank_tag.startswith('R'):\n",
        "            return 'r'\n",
        "        else:\n",
        "            return 'n'\n",
        "\n",
        "\n",
        "def lemmatize(X):\n",
        "  \n",
        "  #Lemmatize words using corresponding POS tag\n",
        "  \n",
        "\n",
        "  lemmatizer = nltk.stem.WordNetLemmatizer()\n",
        "  \n",
        "  X_pos = []\n",
        "  X_lemmatized = []\n",
        "\n",
        "  for sentence in X :\n",
        "\n",
        "    temp = nltk.pos_tag(sentence)\n",
        "    X_pos.append(temp)  \n",
        "\n",
        "  for sentence in X_pos :\n",
        "\n",
        "    temp = [ lemmatizer.lemmatize(word[0],pos=get_wordnet_pos(word[1])) for word in sentence]\n",
        "    X_lemmatized.append(temp)  \n",
        "\n",
        "  return X_lemmatized\n"
      ],
      "execution_count": 50,
      "outputs": []
    },
    {
      "cell_type": "code",
      "metadata": {
        "id": "waTz1B-85iQj"
      },
      "source": [
        "# Preprocess the data\n",
        "\n",
        "X_tokenized = tokenize(X)"
      ],
      "execution_count": 51,
      "outputs": []
    },
    {
      "cell_type": "code",
      "metadata": {
        "id": "68k4zw54Ph0g"
      },
      "source": [
        "X_without_stopwords = remove_stopwords ( X_tokenized )\n",
        "\n"
      ],
      "execution_count": 52,
      "outputs": []
    },
    {
      "cell_type": "code",
      "metadata": {
        "id": "3Awh1W7E4vwb"
      },
      "source": [
        "X_lemmatized = lemmatize ( X_without_stopwords )"
      ],
      "execution_count": null,
      "outputs": []
    },
    {
      "cell_type": "code",
      "metadata": {
        "id": "1MKCGvxt5FsW"
      },
      "source": [
        "X_clean = []\n",
        "\n",
        "for sentence in X_lemmatized:\n",
        "\n",
        "  temp = \" \".join(sentence)\n",
        "  X_clean.append(temp)"
      ],
      "execution_count": 16,
      "outputs": []
    },
    {
      "cell_type": "code",
      "metadata": {
        "colab": {
          "base_uri": "https://localhost:8080/"
        },
        "id": "iW4GBBn89XHt",
        "outputId": "db3bdf13-5b9b-4c52-a011-eaccf4bf156b"
      },
      "source": [
        "# Count total no. of distinct tokens\n",
        "\n",
        "tokenizer = Tokenizer(filters='@')\n",
        "tokenizer.fit_on_texts(X_clean)\n",
        "\n",
        "print('No. of distinct tokens = '+str(len(tokenizer.word_index)))\n"
      ],
      "execution_count": 17,
      "outputs": [
        {
          "output_type": "stream",
          "text": [
            "No. of distinct tokens = 837032\n"
          ],
          "name": "stdout"
        }
      ]
    },
    {
      "cell_type": "code",
      "metadata": {
        "id": "YfCMJiPe9bzD"
      },
      "source": [
        "max_vocab=50000\n"
      ],
      "execution_count": 18,
      "outputs": []
    },
    {
      "cell_type": "code",
      "metadata": {
        "id": "hXUsFG6T-Jcf"
      },
      "source": [
        "# Reload Twitter dataset with new Vocabulary\n",
        "\n",
        "tokenizer = Tokenizer(num_words=max_vocab,filters='@')\n",
        "tokenizer.fit_on_texts(X_clean)"
      ],
      "execution_count": 19,
      "outputs": []
    },
    {
      "cell_type": "code",
      "metadata": {
        "id": "slD7jl_l-MBs"
      },
      "source": [
        "X_clean_vectorized=tokenizer.texts_to_sequences(X_clean)\n"
      ],
      "execution_count": 20,
      "outputs": []
    },
    {
      "cell_type": "code",
      "metadata": {
        "colab": {
          "base_uri": "https://localhost:8080/"
        },
        "id": "gHzRa3bR-RpR",
        "outputId": "36d2aac3-bedf-4f38-fafd-eed7e7298f73"
      },
      "source": [
        "length=[]\n",
        "for sentence in X_clean_vectorized:\n",
        "  length.append(len(sentence))\n",
        "  \n",
        "print('Average length of tweets = '+str(np.mean(length)))"
      ],
      "execution_count": 21,
      "outputs": [
        {
          "output_type": "stream",
          "text": [
            "Average length of tweets = 10.064181875\n"
          ],
          "name": "stdout"
        }
      ]
    },
    {
      "cell_type": "code",
      "metadata": {
        "id": "Kej62eqn-Wdq"
      },
      "source": [
        "max_length=20\n"
      ],
      "execution_count": 22,
      "outputs": []
    },
    {
      "cell_type": "code",
      "metadata": {
        "colab": {
          "base_uri": "https://localhost:8080/"
        },
        "id": "Cr5cMZLO-Wox",
        "outputId": "859ec348-1182-4a4c-db0c-9c7f5c43d848"
      },
      "source": [
        "X_clean_pad = keras.preprocessing.sequence.pad_sequences(X_clean_vectorized,max_length,padding='post',\n",
        "                                                         truncating='post')\n",
        "\n",
        "print(X_clean_pad.shape)"
      ],
      "execution_count": 23,
      "outputs": [
        {
          "output_type": "stream",
          "text": [
            "(1600000, 20)\n"
          ],
          "name": "stdout"
        }
      ]
    },
    {
      "cell_type": "code",
      "metadata": {
        "colab": {
          "base_uri": "https://localhost:8080/"
        },
        "id": "Fx9S40ba-Wye",
        "outputId": "7c147355-69dc-4bc0-8d97-ad9c977267bd"
      },
      "source": [
        "index  = 1260  # index in range [0,1599999]\n",
        "\n",
        "print('\\nOriginal :')\n",
        "print(X[index])\n",
        "print('\\nTokenized :')\n",
        "print(X_tokenized[index])\n",
        "print('\\nStopwords removed :')\n",
        "print(X_without_stopwords[index])\n",
        "print('\\nPOS tagged :')\n",
        "print(nltk.pos_tag(X_without_stopwords[index]))\n",
        "print('\\nLemmatized :')\n",
        "print(X_lemmatized[index])\n",
        "print('\\nClean :')\n",
        "print(X_clean[index])\n",
        "print('\\nVectorized :')\n",
        "print(X_clean_vectorized[index])\n",
        "print('\\nPadded :')\n",
        "print(X_clean_pad[index])\n"
      ],
      "execution_count": 24,
      "outputs": [
        {
          "output_type": "stream",
          "text": [
            "\n",
            "Original :\n",
            "in the university, in the classroom, on the computer... shit my day is boring \n",
            "\n",
            "Tokenized :\n",
            "['in', 'the', 'university', ',', 'in', 'the', 'classroom', ',', 'on', 'the', 'computer', '...', 'shit', 'my', 'day', 'is', 'boring']\n",
            "\n",
            "Stopwords removed :\n",
            "['university', ',', 'classroom', ',', 'computer', '...', 'shit', 'day', 'boring']\n",
            "\n",
            "POS tagged :\n",
            "[('university', 'NN'), (',', ','), ('classroom', 'NN'), (',', ','), ('computer', 'NN'), ('...', ':'), ('shit', 'JJ'), ('day', 'NN'), ('boring', 'VBG')]\n",
            "\n",
            "Lemmatized :\n",
            "['university', ',', 'classroom', ',', 'computer', '...', 'shit', 'day', 'bore']\n",
            "\n",
            "Clean :\n",
            "university , classroom , computer ... shit day bore\n",
            "\n",
            "Vectorized :\n",
            "[3005, 3, 7079, 3, 414, 5, 335, 16, 282]\n",
            "\n",
            "Padded :\n",
            "[3005    3 7079    3  414    5  335   16  282    0    0    0    0    0\n",
            "    0    0    0    0    0    0]\n"
          ],
          "name": "stdout"
        }
      ]
    },
    {
      "cell_type": "code",
      "metadata": {
        "id": "FLFLv5wG-W1b"
      },
      "source": [
        "embedding_path = '/content/drive/MyDrive/Colab Notebooks/glove.twitter.27B.100d.txt'\n",
        "\n",
        "embeddings_index = dict()\n",
        "f = open(embedding_path)\n",
        "for line in f:\n",
        "\tvalues = line.split()\n",
        "\tword = values[0]\n",
        "\tcoefs = np.asarray(values[1:], dtype='float32')\n",
        "\tembeddings_index[word] = coefs\n",
        "f.close()\n"
      ],
      "execution_count": 25,
      "outputs": []
    },
    {
      "cell_type": "code",
      "metadata": {
        "id": "lmZW3rUA4O54"
      },
      "source": [
        "# Create Word Embedding Matrix\n",
        "\n",
        "embedding_matrix = np.zeros((max_vocab, 100))\n",
        "for i in range(1,max_vocab):\n",
        "\tembedding_vector = embeddings_index.get(tokenizer.index_word[i])\n",
        "\tif embedding_vector is not None:\n",
        "\t\tembedding_matrix[i] = embedding_vector"
      ],
      "execution_count": 26,
      "outputs": []
    },
    {
      "cell_type": "code",
      "metadata": {
        "id": "eTcRAgxyA6R4"
      },
      "source": [
        "np.random.seed(1260)\n",
        "\n",
        "model_2 = keras.models.Sequential(name='Model_2')\n",
        "\n",
        "model_2.add(InputLayer(input_shape=(20,),name='Integer_Encoding_after_Preprocessing'))\n",
        "model_2.add(Embedding(max_vocab, 100, weights=[embedding_matrix], input_length=max_length,mask_zero=True,\n",
        "                      name='Pretrained_GloVe_100D', trainable=False))\n",
        "model_2.add(Bidirectional(LSTM(64,name='LSTM'),name='Bidirectional_RNN'))\n",
        "model_2.add(Dropout(0.5,name='Regularizer'))\n",
        "model_2.add(Dense(1, activation='sigmoid',name='Sigmoid_Classifier'))"
      ],
      "execution_count": 38,
      "outputs": []
    },
    {
      "cell_type": "code",
      "metadata": {
        "id": "5Cy2qz_wA-ol"
      },
      "source": [
        "from tensorflow.python.keras.optimizers import Adam\n",
        "model_2.compile(optimizer=keras.optimizers.Adam(lr=0.001),loss='binary_crossentropy', metrics=['accuracy'])"
      ],
      "execution_count": 39,
      "outputs": []
    },
    {
      "cell_type": "code",
      "metadata": {
        "colab": {
          "base_uri": "https://localhost:8080/",
          "height": 738
        },
        "id": "ueIqJZhJBBrG",
        "outputId": "e4a68ad3-d042-4d95-b108-cc8d01612682"
      },
      "source": [
        "model_2.summary()\n",
        "keras.utils.plot_model(model_2,to_file='model_2.png')"
      ],
      "execution_count": 40,
      "outputs": [
        {
          "output_type": "stream",
          "text": [
            "Model: \"Model_2\"\n",
            "_________________________________________________________________\n",
            "Layer (type)                 Output Shape              Param #   \n",
            "=================================================================\n",
            "Pretrained_GloVe_100D (Embed (None, 20, 100)           5000000   \n",
            "_________________________________________________________________\n",
            "Bidirectional_RNN (Bidirecti (None, 128)               84480     \n",
            "_________________________________________________________________\n",
            "Regularizer (Dropout)        (None, 128)               0         \n",
            "_________________________________________________________________\n",
            "Sigmoid_Classifier (Dense)   (None, 1)                 129       \n",
            "=================================================================\n",
            "Total params: 5,084,609\n",
            "Trainable params: 84,609\n",
            "Non-trainable params: 5,000,000\n",
            "_________________________________________________________________\n"
          ],
          "name": "stdout"
        },
        {
          "output_type": "execute_result",
          "data": {
            "image/png": "[encoded data removed]",
            "text/plain": [
              "<IPython.core.display.Image object>"
            ]
          },
          "metadata": {
            "tags": []
          },
          "execution_count": 40
        }
      ]
    },
    {
      "cell_type": "code",
      "metadata": {
        "colab": {
          "base_uri": "https://localhost:8080/"
        },
        "id": "c1HxJRK2B6W2",
        "outputId": "c2379d63-0ce4-4ce5-de7b-2090b1f06ab5"
      },
      "source": [
        "np.random.seed(1260)\n",
        "\n",
        "X_train, X_test, Y_train, Y_test = train_test_split (X_clean_pad,Y.reshape(Y.shape[0],1),test_size=0.05)\n",
        "\n",
        "print(X_train.shape)\n",
        "print(X_test.shape)\n",
        "print(Y_train.shape)\n",
        "print(Y_test.shape)"
      ],
      "execution_count": 54,
      "outputs": [
        {
          "output_type": "stream",
          "text": [
            "(1520000, 20)\n",
            "(80000, 20)\n",
            "(1520000, 1)\n",
            "(80000, 1)\n"
          ],
          "name": "stdout"
        }
      ]
    },
    {
      "cell_type": "code",
      "metadata": {
        "colab": {
          "base_uri": "https://localhost:8080/"
        },
        "id": "ch3FnV-CB_kY",
        "outputId": "4421f0d8-9a5d-4fbf-87be-55e32a6db1f3"
      },
      "source": [
        "history = model_2.fit(X_train,Y_train,batch_size=1024,epochs=15,validation_split=0.05, verbose = 1)"
      ],
      "execution_count": 55,
      "outputs": [
        {
          "output_type": "stream",
          "text": [
            "Epoch 1/15\n",
            "1411/1411 [==============================] - 596s 423ms/step - loss: 0.4900 - accuracy: 0.7593 - val_loss: 0.4565 - val_accuracy: 0.7799\n",
            "Epoch 2/15\n",
            "1411/1411 [==============================] - 608s 431ms/step - loss: 0.4556 - accuracy: 0.7832 - val_loss: 0.4430 - val_accuracy: 0.7890\n",
            "Epoch 3/15\n",
            "1411/1411 [==============================] - 583s 413ms/step - loss: 0.4447 - accuracy: 0.7900 - val_loss: 0.4354 - val_accuracy: 0.7939\n",
            "Epoch 4/15\n",
            "1411/1411 [==============================] - 516s 366ms/step - loss: 0.4376 - accuracy: 0.7943 - val_loss: 0.4354 - val_accuracy: 0.7950\n",
            "Epoch 5/15\n",
            "1411/1411 [==============================] - 518s 367ms/step - loss: 0.4322 - accuracy: 0.7974 - val_loss: 0.4275 - val_accuracy: 0.7995\n",
            "Epoch 6/15\n",
            "1411/1411 [==============================] - 509s 361ms/step - loss: 0.4282 - accuracy: 0.7999 - val_loss: 0.4256 - val_accuracy: 0.8003\n",
            "Epoch 7/15\n",
            "1411/1411 [==============================] - 509s 361ms/step - loss: 0.4247 - accuracy: 0.8022 - val_loss: 0.4260 - val_accuracy: 0.8009\n",
            "Epoch 8/15\n",
            "1411/1411 [==============================] - 515s 365ms/step - loss: 0.4213 - accuracy: 0.8040 - val_loss: 0.4214 - val_accuracy: 0.8040\n",
            "Epoch 9/15\n",
            "1411/1411 [==============================] - 516s 366ms/step - loss: 0.4186 - accuracy: 0.8056 - val_loss: 0.4226 - val_accuracy: 0.8027\n",
            "Epoch 10/15\n",
            "1411/1411 [==============================] - 512s 363ms/step - loss: 0.4162 - accuracy: 0.8069 - val_loss: 0.4231 - val_accuracy: 0.8024\n",
            "Epoch 11/15\n",
            "1411/1411 [==============================] - 518s 367ms/step - loss: 0.4140 - accuracy: 0.8082 - val_loss: 0.4194 - val_accuracy: 0.8054\n",
            "Epoch 12/15\n",
            "1411/1411 [==============================] - 518s 367ms/step - loss: 0.4119 - accuracy: 0.8097 - val_loss: 0.4220 - val_accuracy: 0.8052\n",
            "Epoch 13/15\n",
            "1411/1411 [==============================] - 513s 364ms/step - loss: 0.4097 - accuracy: 0.8108 - val_loss: 0.4194 - val_accuracy: 0.8055\n",
            "Epoch 14/15\n",
            "1411/1411 [==============================] - 516s 366ms/step - loss: 0.4081 - accuracy: 0.8116 - val_loss: 0.4194 - val_accuracy: 0.8058\n",
            "Epoch 15/15\n",
            "1411/1411 [==============================] - 515s 365ms/step - loss: 0.4064 - accuracy: 0.8128 - val_loss: 0.4200 - val_accuracy: 0.8053\n"
          ],
          "name": "stdout"
        }
      ]
    },
    {
      "cell_type": "code",
      "metadata": {
        "colab": {
          "base_uri": "https://localhost:8080/"
        },
        "id": "Zu2MlXhECCYE",
        "outputId": "711c6d04-0016-47cd-f030-49a009e3d411"
      },
      "source": [
        "model_2.evaluate(X_test,Y_test)\n"
      ],
      "execution_count": 56,
      "outputs": [
        {
          "output_type": "stream",
          "text": [
            "2500/2500 [==============================] - 21s 8ms/step - loss: 0.4196 - accuracy: 0.8047\n"
          ],
          "name": "stdout"
        },
        {
          "output_type": "execute_result",
          "data": {
            "text/plain": [
              "[0.4196469783782959, 0.8047249913215637]"
            ]
          },
          "metadata": {
            "tags": []
          },
          "execution_count": 56
        }
      ]
    },
    {
      "cell_type": "code",
      "metadata": {
        "id": "k4RPxQeIvoaN"
      },
      "source": [
        ""
      ],
      "execution_count": null,
      "outputs": []
    }
  ]
}